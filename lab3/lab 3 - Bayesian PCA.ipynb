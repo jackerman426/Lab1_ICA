{
 "metadata": {
  "name": ""
 },
 "nbformat": 3,
 "nbformat_minor": 0,
 "worksheets": [
  {
   "cells": [
    {
     "cell_type": "markdown",
     "metadata": {},
     "source": [
      "# Lab 3: Bayesian PCA\n",
      "\n",
      "### Machine Learning: Principles and Methods, November 2013\n",
      "\n",
      "* The lab exercises should be made in groups of three people, or at least two people.\n",
      "* The deadline is Friday, 13 December, 23:59.\n",
      "* Assignment should be sent to T.S.Cohen at uva dot nl (Taco Cohen). The subject line of your email should be \"[MLPM2013] lab#_lastname1\\_lastname2\\_lastname3\". \n",
      "* Put your and your teammates' names in the body of the email\n",
      "* Attach the .IPYNB (IPython Notebook) file containing your code and answers. Naming of the file follows the same rule as the subject line. For example, if the subject line is \"[MLPM2013] lab01\\_Kingma\\_Hu\", the attached file should be \"lab01\\_Kingma\\_Hu.ipynb\". Only use underscores (\"\\_\") to connect names, otherwise the files cannot be parsed.\n",
      "\n",
      "Notes on implementation:\n",
      "\n",
      "* You should write your code and answers in an IPython Notebook: http://ipython.org/notebook.html. If you have problems, please contact us.\n",
      "* Among the first lines of your notebook should be \"%pylab inline\". This imports all required modules, and your plots will appear inline.\n",
      "* NOTE: test your code and make sure we can run your notebook / scripts!"
     ]
    },
    {
     "cell_type": "markdown",
     "metadata": {},
     "source": [
      "### Introduction\n",
      "\n",
      "In this lab assignment, we will implement a variational algorithm for Bayesian PCA. Unlike regular PCA based on maximization of retained variance or minimization of projection error (see Bishop, 12.1.1 and 12.1.2), probabilistic PCA defines a proper density model over observed and latent variables. We will work with a fully Bayesian model this time, which is to say that we will put priors on our parameters and will be interested in learning the posterior over those parameters. Bayesian methods are very elegant, but require a shift in mindset: we are no longer looking for a point estimate of the parameters (as in maximum likelihood or MAP), but for a full posterior distribution.\n",
      "\n",
      "The integrals involved in a Bayesian analysis are usually analytically intractable, so that we must resort to approximations. In this lab assignment, we will implement the variational method described in Bishop99. Chapters 10 and 12 of the PRML book contain additional material that may be useful when doing this exercise.\n",
      "\n",
      "* [Bishop99] Variational Principal Components, C. Bishop, ICANN 1999 - http://research.microsoft.com/pubs/67241/bishop-vpca-icann-99.pdf\n",
      "\n",
      "Below, you will find some code to get you started."
     ]
    },
    {
     "cell_type": "code",
     "collapsed": false,
     "input": [
      "%pylab inline\n",
      "import scipy.special as sp\n",
      "\n",
      "class BayesianPCA(object):\n",
      "    \n",
      "    def __init__(self, d, N, a_alpha=10e-3, b_alpha=10e-3, a_tau=10e-3, b_tau=10e-3, beta=10e-3):\n",
      "        \"\"\"\n",
      "        \"\"\"\n",
      "        self.d = d # number of dimensions\n",
      "        self.N = N # number of data points\n",
      "        \n",
      "        # Hyperparameters\n",
      "        self.a_alpha = a_alpha\n",
      "        self.b_alpha = b_alpha\n",
      "        self.a_tau = a_tau\n",
      "        self.b_tau = b_tau\n",
      "        self.beta = beta\n",
      "\n",
      "        # Variational parameters\n",
      "        self.means_z = np.random.randn(d, N) # called x in bishop99\n",
      "        self.sigma_z = np.random.randn(d, d)\n",
      "        self.mean_mu = np.random.randn(d, 1)\n",
      "        self.sigma_mu = np.random.randn(d, d)\n",
      "        self.means_w = np.random.randn(d, d)\n",
      "        self.sigma_w = np.random.randn(d, d)\n",
      "        self.a_alpha_tilde = np.abs(np.random.randn(1))\n",
      "        self.bs_alpha_tilde = np.abs(np.random.randn(d, 1))\n",
      "        self.a_tau_tilde = np.abs(np.random.randn(1))\n",
      "        self.b_tau_tilde = np.abs(np.random.randn(1))\n",
      "    \n",
      "    def __update_z(self, X):\n",
      "        pass\n",
      "    \n",
      "    def __update_mu(self):\n",
      "        pass\n",
      "    \n",
      "    def __update_w(self, X):\n",
      "        pass\n",
      "    \n",
      "    def __update_alpha(self):\n",
      "        pass\n",
      "\n",
      "    def __update_tau(self, X):\n",
      "        pass\n",
      "\n",
      "    def L(self, X):\n",
      "        L = 0.0\n",
      "        return L\n",
      "    \n",
      "    def fit(self, X):\n",
      "        pass"
     ],
     "language": "python",
     "metadata": {},
     "outputs": [
      {
       "output_type": "stream",
       "stream": "stdout",
       "text": [
        "Populating the interactive namespace from numpy and matplotlib\n"
       ]
      }
     ],
     "prompt_number": 8
    },
    {
     "cell_type": "markdown",
     "metadata": {},
     "source": [
      "### 1. The Q-distribution (5 points)\n",
      "\n",
      "In variational Bayes, we introduce a distribution $Q(\\Theta)$ over parameters / latent variables in order to make inference tractable. We can think of $Q$ as being an approximation of a certain distribution. What function does $Q$ approximate, $p(D|\\Theta)$, $p(\\Theta|D)$, $p(D, \\Theta)$, $p(\\Theta)$, or $p(D)$, and how do you see that from the equation $\\ln p(D) = \\mathcal{L}(Q) + \\mathrm{KL}(Q||P)$?"
     ]
    },
    {
     "cell_type": "markdown",
     "metadata": {},
     "source": [
      "$Q$ approximates $p(\u03b8|D)$. In an ideal situation where the lower bound $L(Q)$ would be equal to the true log marginal likelihood $\\ln P(D)$, the $KL(Q||P)$ must be $0$. By taking the definition of $KL(Q||P)$ (eq.11) : $KL(Q||P) = - \\int Q(\\theta) \\ln \\frac{P(\\theta|D)}{Q(\\theta)} \\mathrm{d}\\theta$. We can see that $P(\u03b8|D)$ must be equal to $Q(\u0398)$ for $KL(Q||P)$ to be equal to zero. "
     ]
    },
    {
     "cell_type": "markdown",
     "metadata": {},
     "source": [
      "### 2. The mean-field approximation (15 points)\n",
      "\n",
      "Equation 13 from [Bishop99] is a very powerful result: assuming only that $Q(\\Theta)$ factorizes in a certain way (no assumptions on the functional form of the factors $Q_i$!), we get a set of coupled equations for the $Q_i$.\n",
      "\n",
      "However, the expression given in eq. 13 for Q_i contains a small mistake. Starting with the expression for the lower bound $\\mathcal{L}(Q)$, derive the correct expression (and include your derivation). You can proceed as follows: first, substitute the factorization of $Q$ (eq. 12) into the definition of $\\mathcal{L}(Q)$ and separate $\\mathcal{L}(Q)$ into $Q_i$-dependent and $Q_i$-independent terms. At this point, you should be able to spot the expectations $\\langle\\cdot\\rangle_{k \\neq i}$ over the other $Q$-distributions that appear in Bishop's solution (eq. 13). Now, keeping all $Q_k, k \\neq i$ fixed, maximize the expression with respect to $Q_i$. You should be able to spot the form of the optimal $ln Q_i$, from which $Q_i$ can easily be obtained."
     ]
    },
    {
     "cell_type": "markdown",
     "metadata": {},
     "source": [
      "Starting from equation (10) we have:\n",
      "\n",
      "$L(Q) = \\int Q(\\theta) \\ln \\cfrac{P(D,\\theta)}{Q(\\theta)}$, replacing $Q(\\theta)$, with $\\prod_i Q_i(\\theta_i)$, we are going to have:\n",
      "\\begin{align*}\n",
      "L(Q) &= \\int \\prod_i Q_i(\\theta_i) \\ln \\cfrac{P(D,\\theta)}{\\prod_i Q_i(\\theta_i)} \\mathrm{d}\\theta\\\\\n",
      "&= \\int \\prod_i Q_i(\\theta_i) ( \\ln P(D,\\theta) - \\ln \\prod_i Q_i(\\theta_i)) \\mathrm{d}\\theta\\\\\n",
      "&= \\int \\prod_i Q_i(\\theta_i) \\ln P(D,\\theta) \\mathrm{d}\\theta - \\int \\prod_i Q_i(\\theta_i) \\ln \\prod_i Q_i(\\theta_i) \\mathrm{d}\\theta\\\\\n",
      "&= \\int \\prod_i Q_i(\\theta_i) \\ln P(D,\\theta) \\mathrm{d}\\theta - \\int \\prod_i Q_i(\\theta_i) \\sum_i \\ln Q_i(\\theta_i) \\mathrm{d}\\theta\\\\\n",
      "&= \\int Q_j(\\theta_j) \\prod_{i \\neq j} Q_i(\\theta_i) \\ln P(D,\\theta) \\mathrm{d}\\theta - \\int Q_j(\\theta_j) \\prod_{i \\neq j} Q_i(\\theta_i) \\sum_i \\ln Q_j(\\theta_j) \\prod_{i \\neq j} Q_i(\\theta_i) \\mathrm{d}\\theta$ (1)\\\\\n",
      "&= \\int Q_j(\\theta_j) \\int \\left( \\prod_{i \\neq j} Q_i(\\theta_i) \\ln P(D,\\theta) \\right) \\mathrm{d}\\theta_i \\mathrm{d}\\theta_j - \\int Q_j(\\theta_j) \\ln Q_j(\\theta_j) \\mathrm{d}\\theta_j + const (2)\n",
      "\\end{align*}\n",
      ", where we define a distribution as in 10.7(Bishop book) $\\bar{P}(D,\\theta)$ so, $\\ln \\bar{P}(D,\\theta) = \\langle \\ln P(D,\\theta) \\rangle_{i \\neq j} + c$, where c constant.\n",
      "\n",
      "Now, we can write the first them of the equation (1) as:\n",
      "\n",
      "\\begin{equation}\n",
      "\\int \\prod_{i \\neq j} Q_i(\\theta_i) \\ln P(D,\\theta) \\mathrm{d}\\theta_i =  \\langle \\ln P(D,\\theta) \\rangle_{i \\neq j}\n",
      "\\end{equation}\n",
      "\n",
      "If we now transform (2) in this way knowing that $\\int c \\ln(a) - \\int c \\ln(b) = \\int c ln \\cfrac{a}{b}$, and using the above definitions we have:\n",
      "\n",
      "\\begin{equation}\n",
      "L(Q) = \\int Q_j(\\theta_j) \\cfrac{\\ln \\bar{P}(D,\\theta)}{Q_j(\\theta_j)} \\mathrm{d}\\theta_j$\n",
      "\\end{equation}\n",
      ", which is the KL divergence between $Q_j(\\theta_j)$ and $\\ln \\bar{P}(D,\\theta)\n",
      "\n",
      "Maximizing now $L(Q)$ means that we have to minimize the KL divergence, which occurs only for $Q_j(\\theta_j) = \\bar{P}(D,\\theta)$. From 10.9 (Bishop book) we also that the general expression for this solution is given by:\n",
      "\n",
      "\\begin{equation}\n",
      "\\ln Q_j^*(\\theta_j) = \\langle \\ln P(D,\\theta) \\rangle_{i \\neq j}\n",
      "\\end{equation}\n",
      ", removing the logarithm from the equation we have:\n",
      "\n",
      "\\begin{equation}\n",
      "Q_j^*(\\theta_j) = \\cfrac{\\exp(\\langle \\ln P(D,\\theta) \\rangle_{i \\neq j})}{\\int \\exp(\\langle \\ln P(D,\\theta) \\rangle_{i \\neq j}) \\mathrm{d}\\theta_j}\n",
      "\\end{equation}"
     ]
    },
    {
     "cell_type": "markdown",
     "metadata": {},
     "source": [
      "### 3. The log-probability (10 points)\n",
      "\n",
      "Write down the log-prob of data and parameters, $\\ln p(\\mathbf{X}, \\mathbf{Z}, \\mathbf{W}, \\mathbf{\\alpha}, \\tau, \\mathbf{\\mu})$, in full detail (where $\\mathbf{X}$ are observed, $\\mathbf{Z}$ is latent; this is different from [Bishop99] who uses $\\mathbf{T}$ and $\\mathbf{X}$ respectively, but $\\mathbf{X}$ and $\\mathbf{Z}$ are consistent with the PRML book and are more common nowadays). Could we use this to assess the convergence of the variational Bayesian PCA algorithm? If yes, how? If no, why not?\n",
      "\n",
      "\n",
      "The log-prob of the data and parameters are given from:\n",
      "\\begin{align*}\n",
      "\\ln P(\\mathbf{X}, \\mathbf{Z}, \\mathbf{W}, \\alpha, \\tau, \\mu) =& \\ln\\left(\\prod_{n=1}^N P(x_{n}|z_{n},W,\\mu,\\tau)P(Z)P(W|a)P(a)P(\\mu)P(\\tau)\\right) \\\\\n",
      "=& \\ln \\left( \\prod_{n=1}^N \\left[ \\left( \\cfrac{\\tau}{2\\pi}\\right)^{d/2} \\exp \\left\\lbrace - \\cfrac{1}{2} \\tau ||x_n - w z_n - \\mu||^2\\right\\rbrace \\right] \\right. \\\\\n",
      "& \\prod_{n=1}^N \\left[ \\left( \\cfrac{1}{2\\pi}\\right)^{q/2} \\exp \\left\\lbrace -\\cfrac{1}{2}  ||z_n||^2 \\right\\rbrace \\right]\\\\\n",
      "& \\prod_{i=1}^q \\left[ \\left( \\cfrac{\\alpha_i}{2\\pi}\\right)^{d/2} \\exp \\left\\lbrace -\\cfrac{1}{2} \\alpha_i ||\\mathbf{w}_i||^2 \\right\\rbrace \\right] \\\\\n",
      "& \\prod_{i=1}^q \\left[ \\cfrac{b_{\\alpha}^{\\alpha_{\\alpha}} \\alpha_i^{\\alpha_{\\alpha - 1}}\\exp \\lbrace -b_{\\alpha}\\alpha_{\\alpha} \\rbrace } {\\Gamma(\\alpha_{\\alpha})} \\right]\\\\\n",
      "& \\left(\\cfrac{\\beta}{2\\pi}\\right)^{d/2} \\exp \\left\\lbrace -\\cfrac{1}{2}\\beta  ||\\mathbf{\\mu}||^2 \\right\\rbrace\\\\\n",
      "& \\left. \\cfrac{d_{\\tau}^{c_{\\tau}} \\tau^{c_{\\tau} - 1} \\exp \\lbrace -\\tau d_{\\tau} \\rbrace }{\\Gamma(c_{\\tau})} \\right)\n",
      "\\end{align*}\n"
     ]
    },
    {
     "cell_type": "markdown",
     "metadata": {},
     "source": [
      "### 4. The lower bound $\\mathcal{L}(Q)$ (25 points)\n",
      "\n",
      "Derive an expression for the lower bound $\\mathcal{L}(Q)$ of the log-prob $\\ln p(X)$ for Bayesian PCA, making use of the factorization (eq. 12) and the form of the Q-distributions (eq. 16-20) as listed in [Bishop99]. Show your steps. Implement this function.\n",
      "\n",
      "The following result may be useful:\n",
      "\n",
      "For $x \\sim \\Gamma(a,b)$, we have $\\langle \\ln x\\rangle = \\ln b + \\psi(a)$, where $\\psi(a) = \\frac{\\Gamma'(a)}{\\Gamma(a)}$ is the digamma function (which is implemented in numpy.special)."
     ]
    },
    {
     "cell_type": "markdown",
     "metadata": {},
     "source": [
      "### 5. Optimize variational parameters (50 points)\n",
      "Implement the update equations for the Q-distributions, in the __update_XXX methods. Each update function should re-estimate the variational parameters of the Q-distribution corresponding to one group of variables (i.e. either $Z$, $\\mu$, $W$, $\\alpha$ or $\\tau$)."
     ]
    },
    {
     "cell_type": "markdown",
     "metadata": {},
     "source": [
      "### 6. Learning algorithm (10 points)\n",
      "Implement the learning algorithm described in [Bishop99], i.e. iteratively optimize each of the Q-distributions holding the others fixed.\n",
      "\n",
      "What would be a good way to track convergence of the algorithm? Implement your suggestion.\n",
      "\n",
      "Test the algorithm on some test data drawn from a Gaussian with different variances in orthogonal directions. "
     ]
    },
    {
     "cell_type": "markdown",
     "metadata": {},
     "source": [
      "### 7. PCA Representation of MNIST (10 points)\n",
      "\n",
      "Download the MNIST dataset from here http://deeplearning.net/tutorial/gettingstarted.html (the page contains python code for loading the data). Run your algorithm on (part of) this dataset, and visualize the results.\n"
     ]
    },
    {
     "cell_type": "code",
     "collapsed": false,
     "input": [],
     "language": "python",
     "metadata": {},
     "outputs": []
    }
   ],
   "metadata": {}
  }
 ]
}