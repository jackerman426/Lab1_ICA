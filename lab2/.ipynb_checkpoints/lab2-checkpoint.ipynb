{
 "metadata": {
  "name": ""
 },
 "nbformat": 3,
 "nbformat_minor": 0,
 "worksheets": [
  {
   "cells": [
    {
     "cell_type": "code",
     "collapsed": false,
     "input": [
      "%pylab inline\n",
      "\n",
      "variable_list = {}\n",
      "factor_parent_list = {}\n",
      "factor_list = {}\n",
      "class Node(object):\n",
      "    \"\"\"\n",
      "    Base-class for Nodes in a factor graph. Only instantiate sub-classes of Node.\n",
      "    \"\"\"\n",
      "    def __init__(self, name):\n",
      "        # A name for this Node, for printing purposes\n",
      "        self.name = name\n",
      "        \n",
      "        # Neighbours in the graph, identified with their index in this list.\n",
      "        # i.e. self.neighbours contains neighbour 0 through len(self.neighbours) - 1.\n",
      "        self.neighbours = []\n",
      "        \n",
      "        # Reset the node-state (not the graph topology)\n",
      "        self.reset()\n",
      "        \n",
      "    def reset(self):\n",
      "        # Incomming messages; a dictionary mapping neighbours to messages.\n",
      "        # That is, it maps  Node -> np.ndarray.\n",
      "        self.in_msgs = {}\n",
      "        \n",
      "        # A set of neighbours for which this node has pending messages.\n",
      "        # We use a python set object so we don't have to worry about duplicates.\n",
      "        self.pending = set([])\n",
      "\n",
      "    def add_neighbour(self, nb):\n",
      "        self.neighbours.append(nb)\n",
      "\n",
      "    def send_sp_msg(self, other):\n",
      "        # To be implemented in subclass.\n",
      "        raise Exception('Method send_sp_msg not implemented in base-class Node')\n",
      "   \n",
      "    def send_ms_msg(self, other):\n",
      "        # To be implemented in subclass.\n",
      "        raise Exception('Method send_ms_msg not implemented in base-class Node')\n",
      "    \n",
      "    def receive_msg(self, other, msg):\n",
      "        # Store the incomming message, replacing previous messages from the same node\n",
      "        self.in_msgs[other] = msg\n",
      "\n",
      "        # TODO: add pending messages\n",
      "        # self.pending.update(...)\n",
      "    \n",
      "    def __str__(self):\n",
      "        # This is printed when using 'print node_instance'\n",
      "        return self.name\n",
      "\n",
      "\n",
      "class Variable(Node):\n",
      "    def __init__(self, name, num_states):\n",
      "        \"\"\"\n",
      "        Variable node constructor.\n",
      "        Args:\n",
      "            name: a name string for this node. Used for printing. \n",
      "            num_states: the number of states this variable can take.\n",
      "            Allowable states run from 0 through (num_states - 1).\n",
      "            For example, for a binary variable num_states=2,\n",
      "            and the allowable states are 0, 1.\n",
      "        \"\"\"\n",
      "        self.num_states = num_states\n",
      "        \n",
      "        # Call the base-class constructor\n",
      "        super(Variable, self).__init__(name)\n",
      "    \n",
      "    def set_observed(self, observed_state):\n",
      "        \"\"\"\n",
      "        Set this variable to an observed state.\n",
      "        Args:\n",
      "            observed_state: an integer value in [0, self.num_states - 1].\n",
      "        \"\"\"\n",
      "        # Observed state is represented as a 1-of-N variable\n",
      "        # Could be 0.0 for sum-product, but log(0.0) = -inf so a tiny value is preferable for max-sum\n",
      "        self.observed_state[:] = 0.000001\n",
      "        self.observed_state[observed_state] = 1.0\n",
      "        \n",
      "    def set_latent(self):\n",
      "        \"\"\"\n",
      "        Erase an observed state for this variable and consider it latent again.\n",
      "        \"\"\"\n",
      "        # No state is preferred, so set all entries of observed_state to 1.0\n",
      "        # Using this representation we need not differentiate observed an latent\n",
      "        # variables when sending messages.\n",
      "        self.observed_state[:] = 1.0\n",
      "        \n",
      "    def reset(self):\n",
      "        super(Variable, self).reset()\n",
      "        self.observed_state = np.ones(self.num_states)\n",
      "        \n",
      "    def marginal(self, Z=None):\n",
      "        \"\"\"\n",
      "        Compute the marginal distribution of this Variable.\n",
      "        It is assumed that message passing has completed when this function is called.\n",
      "        Args:\n",
      "            Z: an optional normalization constant can be passed in. If None is passed, Z is computed.\n",
      "        Returns: marginal, Z. The first is a numpy array containing the normalized marginal distribution.\n",
      "         Z is either equal to the input Z, or computed in this function (if Z=None was passed).\n",
      "        \"\"\"\n",
      "        # TODO: compute marginal\n",
      "        return None, None\n",
      "    \n",
      "    def send_sp_msg(self, other):\n",
      "        # TODO: implement Variable -> Factor message for sum-product\n",
      "        pass\n",
      "   \n",
      "    def send_ms_msg(self, other):\n",
      "        # TODO: implement Variable -> Factor message for max-sum\n",
      "        pass\n",
      "\n",
      "class Factor(Node):\n",
      "    def __init__(self, name, f, neighbours):\n",
      "        \"\"\"\n",
      "        Factor node constructor.\n",
      "        Args:\n",
      "            name: a name string for this node. Used for printing\n",
      "            f: a numpy.ndarray with N axes, where N is the number of neighbours.\n",
      "               That is, the axes of f correspond to variables, and the index along that axes corresponds to a value of that variable.\n",
      "               Each axis of the array should have as many entries as the corresponding neighbour variable has states.\n",
      "            neighbours: a list of neighbouring Variables. Bi-directional connections are created.\n",
      "        \"\"\"\n",
      "        # Call the base-class constructor\n",
      "        super(Factor, self).__init__(name)\n",
      "\n",
      "        assert len(neighbours) == f.ndim, 'Factor function f should accept as many arguments as this Factor node has neighbours'\n",
      "        \n",
      "        for nb_ind in range(len(neighbours)):\n",
      "            nb = neighbours[nb_ind]\n",
      "            assert f.shape[nb_ind] == nb.num_states, 'The range of the factor function f is invalid for input %i %s' % (nb_ind, nb.name)\n",
      "            self.add_neighbour(nb)\n",
      "            nb.add_neighbour(self)\n",
      "\n",
      "        self.f = f\n",
      "        \n",
      "    def send_sp_msg(self, other):\n",
      "        # TODO: implement Factor -> Variable message for sum-product\n",
      "        message = []\n",
      "        vectors = []\n",
      "        if len(self.neighbours)==1:\n",
      "            message = self.f #den eimai sigouros an einai 1 i self.f\n",
      "        else:\n",
      "            for neighbour in self.neighbours:\n",
      "                if neighbour != other:\n",
      "                    vectors.append(self.in_msgs)\n",
      "            message = np.multiply.reduce(np.ix_(*vectors))\n",
      "        print message\n",
      "                \n",
      "#         for parent in factor_parent_list[self.name]:\n",
      "#             if parent is not None:\n",
      "#                 i = 0\n",
      "#                 temp = variable_list[parent].observed_state\n",
      "#                 temp = temp.tolist()\n",
      "#                 for state in temp:\n",
      "#                     if state == 1:\n",
      "#                         for j in range(len(self.f[i,:])):\n",
      "#                             message.append(self.f[i,:][j].tolist())\n",
      "#                     i+=1\n",
      "#         print message\n",
      "            \n",
      "        #if \"Smokes in factor_parent_list[self.name].keys():\n",
      "            #print \"8--->\"\n",
      "   \n",
      "    def send_ms_msg(self, other):\n",
      "        # TODO: implement Factor -> Variable message for max-sum\n",
      "        pass"
     ],
     "language": "python",
     "metadata": {},
     "outputs": [
      {
       "output_type": "stream",
       "stream": "stdout",
       "text": [
        "Populating the interactive namespace from numpy and matplotlib\n"
       ]
      }
     ],
     "prompt_number": 232
    },
    {
     "cell_type": "heading",
     "level": 2,
     "metadata": {},
     "source": [
      "1.1 Instantiate network"
     ]
    },
    {
     "cell_type": "code",
     "collapsed": false,
     "input": [
      "from IPython.core.display import Image \n",
      "Image(filename='bn.png') "
     ],
     "language": "python",
     "metadata": {},
     "outputs": [
      {
       "metadata": {},
       "output_type": "pyout",
       "png": "[encoded data removed]",
       "prompt_number": 233,
       "text": [
        "<IPython.core.display.Image at 0x60d8810>"
       ]
      }
     ],
     "prompt_number": 233
    },
    {
     "cell_type": "code",
     "collapsed": false,
     "input": [
      "variable_list[\"Influenza\"] = Variable(\"Influenza\", 2)\n",
      "variable_list[\"Smokes\"] = Variable(\"Smokes\", 2)\n",
      "variable_list[\"SoreThroat\"] = Variable(\"SoreThroat\", 2)\n",
      "variable_list[\"Fever\"] = Variable(\"Fever\", 2)\n",
      "variable_list[\"Bronchitis\"] = Variable(\"Bronchitis\", 2)\n",
      "variable_list[\"Coughing\"] = Variable(\"Coughing\", 2)\n",
      "variable_list[\"Wheezing\"] = Variable(\"Wheezing\", 2)\n",
      "\n",
      "factor_parent_list[\"Influenza\"] = {}\n",
      "factor_parent_list[\"Smokes\"] = {}\n",
      "factor_parent_list[\"SoreThroat\"] = {\"Influenza\": None}\n",
      "factor_parent_list[\"Fever\"] = {\"Influenza\": None}\n",
      "factor_parent_list[\"Bronchitis\"] = {\"Influenza\": None, \"Smokes\":None}\n",
      "factor_parent_list[\"Coughing\"] = {\"Bronchitis\": None}\n",
      "factor_parent_list[\"Wheezing\"] = {\"Bronchitis\": None}\n",
      "\n",
      "factor_list[\"Influenza\"] = Factor(\"Influenza\", np.array([0.05, 0.95]), [variable_list[\"Influenza\"]])\n",
      "factor_list[\"Smokes\"] = Factor(\"Smokes\", np.array([0.2, 0.8]), [variable_list[\"Smokes\"]])\n",
      "factor_list[\"SoreThroat\"] = Factor(\"SoreThroat\", np.array([[0.3, 0.001],[ 0.7, 0.999]]), [variable_list[\"SoreThroat\"], variable_list[\"Influenza\"]])\n",
      "factor_list[\"Fever\"] = Factor(\"Fever\", np.array([[0.9, 0.05],[ 0.1, 0.95]]), [variable_list[\"Fever\"], variable_list[\"Influenza\"]])\n",
      "factor_list[\"Bronchitis\"] = Factor(\"Bronchitis\", np.array([[[0.99, 0.9],[ 0.7, 0.0001]],[[ 0.01, 0.1],[ 0.3, 0.9999]]]) , [variable_list[\"Bronchitis\"],variable_list[\"Influenza\"], variable_list[\"Smokes\"]])\n",
      "factor_list[\"Coughing\"] = Factor(\"Coughing\", np.array([[0.8, 0.07],[ 0.2, 0.93]]), [variable_list[\"Coughing\"], variable_list[\"Bronchitis\"]])\n",
      "factor_list[\"Wheezing\"] = Factor(\"Wheezing\", np.array([[0.6, 0.001],[ 0.4, 0.999]]), [variable_list[\"Wheezing\"], variable_list[\"Bronchitis\"]])"
     ],
     "language": "python",
     "metadata": {},
     "outputs": [],
     "prompt_number": 234
    },
    {
     "cell_type": "code",
     "collapsed": false,
     "input": [
      "\n",
      "variable_list[\"Influenza\"].set_observed(0)\n",
      "factor_list[\"Wheezing\"].send_sp_msg(variable_list[\"Wheezing\"])"
     ],
     "language": "python",
     "metadata": {},
     "outputs": [
      {
       "ename": "ValueError",
       "evalue": "Cross index must be 1 dimensional",
       "output_type": "pyerr",
       "traceback": [
        "\u001b[1;31m---------------------------------------------------------------------------\u001b[0m\n\u001b[1;31mValueError\u001b[0m                                Traceback (most recent call last)",
        "\u001b[1;32m<ipython-input-235-33ac19b57766>\u001b[0m in \u001b[0;36m<module>\u001b[1;34m()\u001b[0m\n\u001b[0;32m      1\u001b[0m \u001b[1;33m\u001b[0m\u001b[0m\n\u001b[0;32m      2\u001b[0m \u001b[0mvariable_list\u001b[0m\u001b[1;33m[\u001b[0m\u001b[1;34m\"Influenza\"\u001b[0m\u001b[1;33m]\u001b[0m\u001b[1;33m.\u001b[0m\u001b[0mset_observed\u001b[0m\u001b[1;33m(\u001b[0m\u001b[1;36m0\u001b[0m\u001b[1;33m)\u001b[0m\u001b[1;33m\u001b[0m\u001b[0m\n\u001b[1;32m----> 3\u001b[1;33m \u001b[0mfactor_list\u001b[0m\u001b[1;33m[\u001b[0m\u001b[1;34m\"Wheezing\"\u001b[0m\u001b[1;33m]\u001b[0m\u001b[1;33m.\u001b[0m\u001b[0msend_sp_msg\u001b[0m\u001b[1;33m(\u001b[0m\u001b[0mvariable_list\u001b[0m\u001b[1;33m[\u001b[0m\u001b[1;34m\"Wheezing\"\u001b[0m\u001b[1;33m]\u001b[0m\u001b[1;33m)\u001b[0m\u001b[1;33m\u001b[0m\u001b[0m\n\u001b[0m",
        "\u001b[1;32m<ipython-input-232-ff09cc8a0f34>\u001b[0m in \u001b[0;36msend_sp_msg\u001b[1;34m(self, other)\u001b[0m\n\u001b[0;32m    145\u001b[0m                 \u001b[1;32mif\u001b[0m \u001b[0mneighbour\u001b[0m \u001b[1;33m!=\u001b[0m \u001b[0mother\u001b[0m\u001b[1;33m:\u001b[0m\u001b[1;33m\u001b[0m\u001b[0m\n\u001b[0;32m    146\u001b[0m                     \u001b[0mvectors\u001b[0m\u001b[1;33m.\u001b[0m\u001b[0mappend\u001b[0m\u001b[1;33m(\u001b[0m\u001b[0mself\u001b[0m\u001b[1;33m.\u001b[0m\u001b[0mf\u001b[0m\u001b[1;33m.\u001b[0m\u001b[0mtolist\u001b[0m\u001b[1;33m(\u001b[0m\u001b[1;33m)\u001b[0m\u001b[1;33m)\u001b[0m\u001b[1;33m\u001b[0m\u001b[0m\n\u001b[1;32m--> 147\u001b[1;33m             \u001b[0mmessage\u001b[0m \u001b[1;33m=\u001b[0m \u001b[0mnp\u001b[0m\u001b[1;33m.\u001b[0m\u001b[0mmultiply\u001b[0m\u001b[1;33m.\u001b[0m\u001b[0mreduce\u001b[0m\u001b[1;33m(\u001b[0m\u001b[0mnp\u001b[0m\u001b[1;33m.\u001b[0m\u001b[0mix_\u001b[0m\u001b[1;33m(\u001b[0m\u001b[1;33m*\u001b[0m\u001b[0mvectors\u001b[0m\u001b[1;33m)\u001b[0m\u001b[1;33m)\u001b[0m\u001b[1;33m\u001b[0m\u001b[0m\n\u001b[0m\u001b[0;32m    148\u001b[0m         \u001b[1;32mprint\u001b[0m \u001b[0mmessage\u001b[0m\u001b[1;33m\u001b[0m\u001b[0m\n\u001b[0;32m    149\u001b[0m \u001b[1;33m\u001b[0m\u001b[0m\n",
        "\u001b[1;32mC:\\Anaconda\\lib\\site-packages\\numpy\\lib\\index_tricks.pyc\u001b[0m in \u001b[0;36mix_\u001b[1;34m(*args)\u001b[0m\n\u001b[0;32m     71\u001b[0m         \u001b[0mnew\u001b[0m \u001b[1;33m=\u001b[0m \u001b[0m_nx\u001b[0m\u001b[1;33m.\u001b[0m\u001b[0masarray\u001b[0m\u001b[1;33m(\u001b[0m\u001b[0margs\u001b[0m\u001b[1;33m[\u001b[0m\u001b[0mk\u001b[0m\u001b[1;33m]\u001b[0m\u001b[1;33m)\u001b[0m\u001b[1;33m\u001b[0m\u001b[0m\n\u001b[0;32m     72\u001b[0m         \u001b[1;32mif\u001b[0m \u001b[1;33m(\u001b[0m\u001b[0mnew\u001b[0m\u001b[1;33m.\u001b[0m\u001b[0mndim\u001b[0m \u001b[1;33m!=\u001b[0m \u001b[1;36m1\u001b[0m\u001b[1;33m)\u001b[0m\u001b[1;33m:\u001b[0m\u001b[1;33m\u001b[0m\u001b[0m\n\u001b[1;32m---> 73\u001b[1;33m             \u001b[1;32mraise\u001b[0m \u001b[0mValueError\u001b[0m\u001b[1;33m(\u001b[0m\u001b[1;34m\"Cross index must be 1 dimensional\"\u001b[0m\u001b[1;33m)\u001b[0m\u001b[1;33m\u001b[0m\u001b[0m\n\u001b[0m\u001b[0;32m     74\u001b[0m         \u001b[1;32mif\u001b[0m \u001b[0missubclass\u001b[0m\u001b[1;33m(\u001b[0m\u001b[0mnew\u001b[0m\u001b[1;33m.\u001b[0m\u001b[0mdtype\u001b[0m\u001b[1;33m.\u001b[0m\u001b[0mtype\u001b[0m\u001b[1;33m,\u001b[0m \u001b[0m_nx\u001b[0m\u001b[1;33m.\u001b[0m\u001b[0mbool_\u001b[0m\u001b[1;33m)\u001b[0m\u001b[1;33m:\u001b[0m\u001b[1;33m\u001b[0m\u001b[0m\n\u001b[0;32m     75\u001b[0m             \u001b[0mnew\u001b[0m \u001b[1;33m=\u001b[0m \u001b[0mnew\u001b[0m\u001b[1;33m.\u001b[0m\u001b[0mnonzero\u001b[0m\u001b[1;33m(\u001b[0m\u001b[1;33m)\u001b[0m\u001b[1;33m[\u001b[0m\u001b[1;36m0\u001b[0m\u001b[1;33m]\u001b[0m\u001b[1;33m\u001b[0m\u001b[0m\n",
        "\u001b[1;31mValueError\u001b[0m: Cross index must be 1 dimensional"
       ]
      }
     ],
     "prompt_number": 235
    },
    {
     "cell_type": "code",
     "collapsed": false,
     "input": [
      "variable_list[\"Influenza\"].send_sp_msg(factor_list[\"Bronchitis\"])"
     ],
     "language": "python",
     "metadata": {},
     "outputs": [],
     "prompt_number": 210
    },
    {
     "cell_type": "code",
     "collapsed": false,
     "input": [
      "vs = [np.r_[1,2,3.0],np.r_[4,5.0],np.r_[6,7,8.0]]"
     ],
     "language": "python",
     "metadata": {},
     "outputs": [],
     "prompt_number": 173
    },
    {
     "cell_type": "code",
     "collapsed": false,
     "input": [
      "vs"
     ],
     "language": "python",
     "metadata": {},
     "outputs": [
      {
       "metadata": {},
       "output_type": "pyout",
       "prompt_number": 174,
       "text": [
        "[array([ 1.,  2.,  3.]), array([ 4.,  5.]), array([ 6.,  7.,  8.])]"
       ]
      }
     ],
     "prompt_number": 174
    },
    {
     "cell_type": "code",
     "collapsed": false,
     "input": [
      "np.multiply.reduce(np.ix_(*vs))"
     ],
     "language": "python",
     "metadata": {},
     "outputs": [
      {
       "metadata": {},
       "output_type": "pyout",
       "prompt_number": 200,
       "text": [
        "array([[[  24.,   28.,   32.],\n",
        "        [  30.,   35.,   40.]],\n",
        "\n",
        "       [[  48.,   56.,   64.],\n",
        "        [  60.,   70.,   80.]],\n",
        "\n",
        "       [[  72.,   84.,   96.],\n",
        "        [  90.,  105.,  120.]]])"
       ]
      }
     ],
     "prompt_number": 200
    },
    {
     "cell_type": "code",
     "collapsed": false,
     "input": [],
     "language": "python",
     "metadata": {},
     "outputs": []
    }
   ],
   "metadata": {}
  }
 ]
}